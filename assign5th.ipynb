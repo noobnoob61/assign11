{
 "cells": [
  {
   "cell_type": "code",
   "execution_count": 1,
   "metadata": {},
   "outputs": [
    {
     "name": "stdout",
     "output_type": "stream",
     "text": [
      "Original Array:\n",
      "[[89  0 72 38 25]\n",
      " [67 76 23 19 66]\n",
      " [16  3 40 37  2]\n",
      " [69 84 20 66  5]\n",
      " [42 46 48 81 70]\n",
      " [ 8 18 18 28 22]\n",
      " [13 88  3 37  1]\n",
      " [36  3 59 43 44]\n",
      " [27 88 39 22 38]\n",
      " [68 63 53 19 69]\n",
      " [89 72 56 80 68]\n",
      " [57 45 15 34  0]]\n",
      "\n",
      "Array after updating the last row:\n",
      "[[89  0 72 38 25]\n",
      " [67 76 23 19 66]\n",
      " [16  3 40 37  2]\n",
      " [69 84 20 66  5]\n",
      " [42 46 48 81 70]\n",
      " [ 8 18 18 28 22]\n",
      " [13 88  3 37  1]\n",
      " [36  3 59 43 44]\n",
      " [27 88 39 22 38]\n",
      " [68 63 53 19 69]\n",
      " [89 72 56 80 68]\n",
      " [ 1  2  3  4  5]]\n"
     ]
    }
   ],
   "source": [
    "import numpy as np\n",
    "\n",
    "array = np.random.randint(0, 100, size=(12, 5))\n",
    "\n",
    "print(\"Original Array:\")\n",
    "print(array)\n",
    "\n",
    "new_last_row = np.array([1, 2, 3, 4, 5])\n",
    "\n",
    "array[-1] = new_last_row\n",
    "\n",
    "\n",
    "print(\"\\nArray after updating the last row:\")\n",
    "print(array)\n"
   ]
  },
  {
   "cell_type": "code",
   "execution_count": 2,
   "metadata": {},
   "outputs": [
    {
     "name": "stdout",
     "output_type": "stream",
     "text": [
      "Original Array:\n",
      "[[45 57 30 48 51]\n",
      " [40 42 85 35 57]\n",
      " [32  6 59 62  7]\n",
      " [33  4 20 17 16]\n",
      " [61 27 74 23 42]\n",
      " [35 56 35 84 23]\n",
      " [15 28 25  3 82]\n",
      " [41 22 45 18 12]\n",
      " [49 82 66 66 11]\n",
      " [ 6 80 29 91 77]\n",
      " [81 43 71 97  7]\n",
      " [70 59 39 35  4]]\n",
      "\n",
      "Minimum and Maximum values per row:\n",
      "[[30 57]\n",
      " [35 85]\n",
      " [ 6 62]\n",
      " [ 4 33]\n",
      " [23 74]\n",
      " [23 84]\n",
      " [ 3 82]\n",
      " [12 45]\n",
      " [11 82]\n",
      " [ 6 91]\n",
      " [ 7 97]\n",
      " [ 4 70]]\n"
     ]
    }
   ],
   "source": [
    "import numpy as np\n",
    "\n",
    "def min_max_per_row(array):\n",
    "\n",
    "    min_per_row = np.min(array, axis=1)\n",
    "    max_per_row = np.max(array, axis=1)\n",
    "\n",
    "    min_max_array = np.column_stack((min_per_row, max_per_row))\n",
    "\n",
    "    return min_max_array\n",
    "\n",
    "array = np.random.randint(0, 100, size=(12, 5))\n",
    "\n",
    "print(\"Original Array:\")\n",
    "print(array)\n",
    "\n",
    "min_max_values = min_max_per_row(array)\n",
    "\n",
    "print(\"\\nMinimum and Maximum values per row:\")\n",
    "print(min_max_values)\n"
   ]
  }
 ],
 "metadata": {
  "kernelspec": {
   "display_name": "Python 3",
   "language": "python",
   "name": "python3"
  },
  "language_info": {
   "codemirror_mode": {
    "name": "ipython",
    "version": 3
   },
   "file_extension": ".py",
   "mimetype": "text/x-python",
   "name": "python",
   "nbconvert_exporter": "python",
   "pygments_lexer": "ipython3",
   "version": "3.11.9"
  }
 },
 "nbformat": 4,
 "nbformat_minor": 2
}
